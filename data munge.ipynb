{
 "cells": [
  {
   "cell_type": "code",
   "execution_count": 1,
   "id": "970e243f-5226-4bcb-b1bf-b8fa457b133c",
   "metadata": {},
   "outputs": [],
   "source": [
    "import csv\n",
    "import json"
   ]
  },
  {
   "cell_type": "markdown",
   "id": "8024861b-7cdf-4e79-ae5e-cf71b5ff2986",
   "metadata": {},
   "source": [
    "Get the raw data and remove first row which is just commentary"
   ]
  },
  {
   "cell_type": "code",
   "execution_count": null,
   "id": "22d4c71d-1638-4064-8a9f-8d69b9bf36b0",
   "metadata": {},
   "outputs": [],
   "source": [
    "rawdata = []\n",
    "\n",
    "with open('knowledge_raw.csv', newline='') as csvfile:\n",
    "    csvreader = csv.reader(csvfile)\n",
    "    for row in csvreader:\n",
    "        rawdata.append(row)\n",
    "rawdata.pop(0)"
   ]
  },
  {
   "cell_type": "markdown",
   "id": "e9243ff0-b587-4638-8935-4d1ffb1966ba",
   "metadata": {},
   "source": [
    "Exclude headers. \n",
    "Each distinct item in the columns is a node (but skip 0 (no.) and 9 (CA 06 subtitles). Create a list of dicts. Each dict is a node, id is count, type from column, label is content."
   ]
  },
  {
   "cell_type": "code",
   "execution_count": 3,
   "id": "0e78f4fe-056e-44aa-99a4-3fad8f0c26ad",
   "metadata": {},
   "outputs": [],
   "source": [
    "noHeadData = rawdata[1:]\n",
    "running = []\n",
    "Nodes = []\n",
    "count = 0\n",
    "for entry in noHeadData:\n",
    "    for item in entry:\n",
    "        if item == '':\n",
    "            pass\n",
    "        elif (entry.index(item) == 0) or (entry.index(item) == 9):\n",
    "            pass\n",
    "        elif item not in running:\n",
    "            NodeDict = {}\n",
    "            NodeDict['id'] = count\n",
    "            NodeDict['label'] = item\n",
    "            NodeDict['type'] = rawdata[0][entry.index(item)]\n",
    "            Nodes.append(NodeDict)\n",
    "            running.append(item)\n",
    "            count += 1"
   ]
  },
  {
   "cell_type": "markdown",
   "id": "ae0a5fa1-2abd-4be1-afd1-8ea7bb0f63ae",
   "metadata": {},
   "source": [
    "Helper functions"
   ]
  },
  {
   "cell_type": "code",
   "execution_count": 5,
   "id": "030cecad-1bc1-4319-9787-c49a42fc5292",
   "metadata": {},
   "outputs": [],
   "source": [
    "def getIDByLabel(label):\n",
    "    node = next((item for item in Nodes if item['label'] == label), \"error\")\n",
    "    if node != \"error\":\n",
    "        return node['id']\n",
    "    else:\n",
    "        print(label, \"error\")"
   ]
  },
  {
   "cell_type": "code",
   "execution_count": 6,
   "id": "01055dac-2cac-4479-84f4-191d25c67d54",
   "metadata": {},
   "outputs": [],
   "source": [
    "def getContentByID(nodeID):\n",
    "    node = next((item for item in Nodes if item['id'] == nodeID), \"error\")\n",
    "    if node != \"error\":\n",
    "        return node['label']\n",
    "    else:\n",
    "        print(label, \"error\")"
   ]
  },
  {
   "cell_type": "markdown",
   "id": "5a6aed2a-f78f-4f09-8d49-4071797afb18",
   "metadata": {},
   "source": [
    "Then make edges. Go through list and link each node to knowledge summary. Dicts of source and target. Add each to a list called edges."
   ]
  },
  {
   "cell_type": "code",
   "execution_count": 8,
   "id": "4f1609dd-ebf7-48d0-9b74-f0803991ed6e",
   "metadata": {},
   "outputs": [],
   "source": [
    "Edges = []\n",
    "for entry in noHeadData:\n",
    "    for item in entry:\n",
    "        if item == '':\n",
    "            pass\n",
    "        elif (entry.index(item) == 0) or (entry.index(item) == 9):\n",
    "            pass\n",
    "        elif entry.index(item) != 2:\n",
    "            EdgeDict = {}\n",
    "            sourceID = getIDByLabel(entry[2])\n",
    "            targetID = getIDByLabel(item)\n",
    "            EdgeDict['source'] = sourceID\n",
    "            EdgeDict['target'] = targetID\n",
    "            Edges.append(EdgeDict)"
   ]
  },
  {
   "cell_type": "code",
   "execution_count": null,
   "id": "3fb87b99-26a4-4694-bf2a-95d4be547185",
   "metadata": {},
   "outputs": [],
   "source": [
    "Edges[0:3]"
   ]
  },
  {
   "cell_type": "code",
   "execution_count": null,
   "id": "55f44a09-869c-41ca-bb96-7c84361894f2",
   "metadata": {},
   "outputs": [],
   "source": [
    "edgeID = 201\n",
    "sourceContent = getContentByID(Edges[edgeID]['source'])\n",
    "targetContent = getContentByID(Edges[edgeID]['target'])\n",
    "print(sourceContent)\n",
    "print(targetContent)"
   ]
  },
  {
   "cell_type": "markdown",
   "id": "e778b84e-73cb-4079-b517-8e05865d574a",
   "metadata": {},
   "source": [
    "Write to json for ingestion by streamlit"
   ]
  },
  {
   "cell_type": "code",
   "execution_count": 12,
   "id": "aa29629f-fbf5-4a7c-a2e2-ca6d582bc057",
   "metadata": {},
   "outputs": [],
   "source": [
    "json_string = {\n",
    "    \"nodes\": Nodes,\n",
    "    \"edges\": Edges\n",
    "}\n",
    "\n",
    "with open('json_data.json', 'w') as outfile:\n",
    "    json.dump(json_string, outfile)"
   ]
  }
 ],
 "metadata": {
  "kernelspec": {
   "display_name": "Python 3 (ipykernel)",
   "language": "python",
   "name": "python3"
  },
  "language_info": {
   "codemirror_mode": {
    "name": "ipython",
    "version": 3
   },
   "file_extension": ".py",
   "mimetype": "text/x-python",
   "name": "python",
   "nbconvert_exporter": "python",
   "pygments_lexer": "ipython3",
   "version": "3.10.2"
  }
 },
 "nbformat": 4,
 "nbformat_minor": 5
}
